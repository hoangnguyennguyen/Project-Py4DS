{
 "cells": [
  {
   "cell_type": "code",
   "execution_count": 221,
   "id": "69008f01",
   "metadata": {},
   "outputs": [],
   "source": [
    "import warnings\n",
    "warnings.filterwarnings('ignore')"
   ]
  },
  {
   "cell_type": "code",
   "execution_count": 222,
   "id": "0c9a4d64",
   "metadata": {},
   "outputs": [],
   "source": [
    "%%capture\n",
    "!jupyter nbextension enable --py widgetsnbextension --sys-prefix\n",
    "!jupyter serverextension enable voila --sys-prefix\n"
   ]
  },
  {
   "cell_type": "code",
   "execution_count": 223,
   "id": "56ea1e11",
   "metadata": {},
   "outputs": [],
   "source": [
    "from ipywidgets import *"
   ]
  },
  {
   "cell_type": "code",
   "execution_count": 224,
   "id": "a50a9a5d",
   "metadata": {},
   "outputs": [],
   "source": [
    "import pandas as pd\n",
    "import numpy as np\n",
    "from IPython.display import display, HTML, clear_output\n",
    "import IPython.display\n",
    "import numpy as np"
   ]
  },
  {
   "cell_type": "code",
   "execution_count": 225,
   "id": "eb75071c",
   "metadata": {},
   "outputs": [],
   "source": [
    "import plotly.express as px\n",
    "import plotly.graph_objects as go\n",
    "import matplotlib.pyplot as plt\n",
    "%matplotlib inline"
   ]
  },
  {
   "cell_type": "code",
   "execution_count": 226,
   "id": "46bb078e",
   "metadata": {},
   "outputs": [],
   "source": [
    "shopee_data = pd.read_csv(\"https://raw.githubusercontent.com/hoangnguyennguyen/Project-Py4DS/main/Shopee%20Data.csv\", index_col=0)"
   ]
  },
  {
   "cell_type": "code",
   "execution_count": 227,
   "id": "c4a882ab",
   "metadata": {},
   "outputs": [],
   "source": [
    "shopee_data.Category = shopee_data.Category.str.replace('_', ' ')\n",
    "shopee_data['Sub Category'] = shopee_data['Sub Category'].str.replace('_', ' ')"
   ]
  },
  {
   "cell_type": "code",
   "execution_count": 228,
   "id": "3a21ff48",
   "metadata": {},
   "outputs": [],
   "source": [
    "shopee_data.Sales = shopee_data.groupby(\"Name\").Sales.transform(\"sum\")\n",
    "shopee_data.Sold = shopee_data.groupby(\"Name\").Sold.transform(\"sum\")\n",
    "shopee_data.drop_duplicates(subset=\"Name\", inplace=True)"
   ]
  },
  {
   "cell_type": "code",
   "execution_count": 229,
   "id": "2eb79b52",
   "metadata": {},
   "outputs": [],
   "source": [
    "lazada_data = pd.read_csv(\"https://raw.githubusercontent.com/hoangnguyennguyen/Project-Py4DS/main/Lazada_merged.csv\")"
   ]
  },
  {
   "cell_type": "code",
   "execution_count": 230,
   "id": "8677a16e",
   "metadata": {},
   "outputs": [],
   "source": [
    "lazada_data = lazada_data.rename({'name': 'Name', 'root_category': 'Category',\n",
    "                                  'category': 'Sub Category', 'price': 'Price',\n",
    "                                  'rating': \"Rating\"}, axis=1)"
   ]
  },
  {
   "cell_type": "code",
   "execution_count": 231,
   "id": "caea6a22",
   "metadata": {},
   "outputs": [],
   "source": [
    "tiki_data = pd.read_csv(\"https://raw.githubusercontent.com/hoangnguyennguyen/Project-Py4DS/main/tiki.csv\")"
   ]
  },
  {
   "cell_type": "code",
   "execution_count": 232,
   "id": "ef3400ee",
   "metadata": {},
   "outputs": [],
   "source": [
    "tiki_data.Sales = tiki_data.groupby(\"Name\").Sales.transform(\"sum\")\n",
    "tiki_data.Sold = tiki_data.groupby(\"Name\").Sold.transform(\"sum\")\n",
    "tiki_data.drop_duplicates(subset=\"Name\", inplace=True)"
   ]
  },
  {
   "cell_type": "code",
   "execution_count": 233,
   "id": "cf6690d7",
   "metadata": {},
   "outputs": [],
   "source": [
    "out = widgets.Output()"
   ]
  },
  {
   "cell_type": "code",
   "execution_count": 234,
   "id": "05f286c7",
   "metadata": {},
   "outputs": [],
   "source": [
    "dataset = {\n",
    "    'Shopee': shopee_data,\n",
    "    'Tiki': tiki_data,\n",
    "    'Lazada': lazada_data\n",
    "}\n",
    "\n",
    "questions_for_visualize = [\"Top San Pham Ban Chay Nhat\",\n",
    "                           \"Top San Pham Co Doanh Thu Cao Nhat\",\n",
    "                           \"Top Danh Muc Co Doanh Thu Cao Nhat\",\n",
    "                           \"Top Danh Muc Phu Co Doanh Thu Cao Nhat\",\n",
    "                           \"Top Danh Muc Co Trung Binh Rating Cao Nhat\"]\n",
    "websites = [\"Lazada\", \"Shopee\", \"Tiki\"]"
   ]
  },
  {
   "cell_type": "code",
   "execution_count": 235,
   "id": "c38c1467",
   "metadata": {},
   "outputs": [],
   "source": [
    "def best_rating_plot(website, number):\n",
    "    data = dataset[website].copy()\n",
    "    data.Rating = data.groupby('Category').Rating.transform(np.mean)\n",
    "    data.drop_duplicates(subset='Category', inplace=True)\n",
    "    data.sort_values(by=\"Rating\", inplace=True)\n",
    "    \n",
    "    if number > len(data['Category']):\n",
    "        number = len(data['Category'])\n",
    "        \n",
    "    data = data[-number:]\n",
    "    fig = go.Figure(go.Bar(x=data.Rating, y=data['Category'], orientation='h'))\n",
    "    fig.update_layout(title=f\"Top {number} danh muc co trung binh rating cao nhat tren {website}\",\n",
    "                      yaxis_tickformat=\":.12s\")\n",
    "    \n",
    "    return fig "
   ]
  },
  {
   "cell_type": "code",
   "execution_count": 236,
   "id": "1ef8c4a6",
   "metadata": {},
   "outputs": [],
   "source": [
    "def best_sales_cat_plot(website, number):\n",
    "    if website == \"Lazada\":\n",
    "        return None\n",
    "    \n",
    "    data = dataset[website].copy()\n",
    "    data.Sales = data.groupby('Category').Sales.transform(\"sum\")\n",
    "    data.drop_duplicates(subset=\"Category\", inplace=True)\n",
    "    data.sort_values(by='Sales', inplace=True)\n",
    "    \n",
    "    if number > len(data['Category']):\n",
    "        number = len(data['Category'])\n",
    "\n",
    "    data = data[-number:]\n",
    "    fig = go.Figure(go.Bar(x=data.Sales, y=data['Category'], orientation='h'))\n",
    "    fig.update_layout(title=f\"Top {number} danh muc co doanh thu cao nhat tren {website}\",\n",
    "                      yaxis_tickformat=\":.12s\")\n",
    "    \n",
    "    return fig "
   ]
  },
  {
   "cell_type": "code",
   "execution_count": 237,
   "id": "b96d07dd",
   "metadata": {},
   "outputs": [],
   "source": [
    "def best_sales_sub_plot(website, number):\n",
    "    if website == \"Lazada\" or website == \"Tiki\":\n",
    "        return None\n",
    "    \n",
    "    data = dataset[website].copy()\n",
    "    data.Sales = data.groupby('Sub Category').Sales.transform(\"sum\")\n",
    "    data.drop_duplicates(subset=\"Sub Category\", inplace=True)\n",
    "    data.sort_values(by='Sales', inplace=True)\n",
    "    \n",
    "\n",
    "    data = data[-number:]\n",
    "    fig = go.Figure(go.Bar(x=data.Sales, y=data['Sub Category'], orientation='h'))\n",
    "    fig.update_layout(title=f\"Top {number} danh muc phu co doanh thu cao nhat tren {website}\",\n",
    "                      yaxis_tickformat=\":.12s\")\n",
    "    \n",
    "    return fig "
   ]
  },
  {
   "cell_type": "code",
   "execution_count": 249,
   "id": "168987e1",
   "metadata": {},
   "outputs": [],
   "source": [
    "def best_sales_plot(website, number):\n",
    "    if website == \"Lazada\":\n",
    "        return None\n",
    "    \n",
    "    data = dataset[website].copy()\n",
    "    data.Sales = data.groupby('Name').Sales.transform(\"sum\")\n",
    "    data.drop_duplicates(subset=\"Name\", inplace=True)\n",
    "    data.dropna(inplace=True)\n",
    "    data.sort_values(by='Sales', inplace=True)\n",
    "    \n",
    "    plot_data = data.copy()\n",
    "    plot_data = plot_data[-number:]\n",
    "    fig = go.Figure(go.Bar(x=plot_data.Sales, y=plot_data.Name.str.slice(stop=40), orientation='h'))\n",
    "    fig.update_layout(title=f\"Top {number} san pham co doanh thu cao nhat tren {website}\",\n",
    "                      yaxis_tickformat=\":.12s\")\n",
    "    \n",
    "    return fig \n",
    "    "
   ]
  },
  {
   "cell_type": "code",
   "execution_count": 250,
   "id": "b7026325",
   "metadata": {},
   "outputs": [],
   "source": [
    "def best_seller_plot(website, number):\n",
    "    if website == \"Lazada\":\n",
    "        return None\n",
    "    \n",
    "    data = dataset[website].copy()\n",
    "    data.Sold = data.groupby('Name').Sold.transform(\"sum\")\n",
    "    data.drop_duplicates(subset=\"Name\", inplace=True)\n",
    "    data.dropna(inplace=True)\n",
    "    data.sort_values(by='Sold', inplace=True)\n",
    "    \n",
    "    plot_data = data.copy()\n",
    "    plot_data = plot_data[-number:]\n",
    "    fig = go.Figure(go.Bar(x=plot_data.Sold, y=plot_data.Name.str.slice(stop=40), orientation='h'))\n",
    "    fig.update_layout(title=f\"Top {number} san pham ban chay nhat tren {website}\",\n",
    "                      yaxis_tickformat=\":.12s\")\n",
    "    \n",
    "    return fig"
   ]
  },
  {
   "cell_type": "code",
   "execution_count": 251,
   "id": "ccfff77a",
   "metadata": {},
   "outputs": [],
   "source": [
    "def dropdown_menu_widget_visualization(dataset, websites, questions):\n",
    "    \n",
    "    dropdown_website = widgets.Dropdown(options=websites, value=\"Shopee\", description=\"Website: \"), layout=Layout(width=\'200px\')\n",
    "    dropdown_question = widgets.Dropdown(options=questions, value=\"Top San Pham Ban Chay Nhat\", description='Question: ', layout=Layout(width=\'400px\'))\n",
    "    slider = widgets.IntSlider(value=12, min=1, max=30, step=1, description='Number',\n",
    "                              orientations='horizontal', readout=True, readout_format='d')\n",
    "    \n",
    "    for question in questions:\n",
    "        \n",
    "        def output_by_website(website, question, number):\n",
    "            '''\n",
    "                Taken input are:\n",
    "                    Website: String for Website Name e.g. Tiki, Shoppe, Lazada\n",
    "                    Qeustion: String for Which usre want to know, prepared by program\n",
    "            '''\n",
    "            if question == \"Top San Pham Ban Chay Nhat\":\n",
    "                output_data = best_seller_plot(website, number)\n",
    "            \n",
    "                with out:\n",
    "                    clear_output()\n",
    "                    try: \n",
    "                        display(output_data.show())\n",
    "                    except:\n",
    "                        display(widgets.HTML(\"<h1>Khong the truc quan</h1>\"))\n",
    "                        \n",
    "            if question == \"Top San Pham Co Doanh Thu Cao Nhat\":\n",
    "                output_data = best_sales_plot(website, number)\n",
    "            \n",
    "                with out:\n",
    "                    clear_output()\n",
    "                    try: \n",
    "                        display(output_data.show())\n",
    "                    except:\n",
    "                        display(widgets.HTML(\"<h1>Khong the truc quan</h1>\"))\n",
    "                        \n",
    "            if question == \"Top Danh Muc Phu Co Doanh Thu Cao Nhat\":\n",
    "                output_data = best_sales_sub_plot(website, number)\n",
    "                \n",
    "                with out:\n",
    "                    clear_output()\n",
    "                    try: \n",
    "                        display(output_data.show())\n",
    "                    except:\n",
    "                        display(widgets.HTML(\"<h1>Khong the truc quan</h1>\"))\n",
    "            \n",
    "            if question == \"Top Danh Muc Co Doanh Thu Cao Nhat\":\n",
    "                output_data = best_sales_cat_plot(website, number)\n",
    "                \n",
    "                with out:\n",
    "                    clear_output()\n",
    "                    try: \n",
    "                        display(output_data.show())\n",
    "                    except:\n",
    "                        display(widgets.HTML(\"<h1>Khong the truc quan</h1>\"))\n",
    "                        \n",
    "            if question == \"Top Danh Muc Co Trung Binh Rating Cao Nhat\":\n",
    "                output_data = best_rating_plot(website, number)\n",
    "                \n",
    "                with out:\n",
    "                    clear_output()\n",
    "                    try: \n",
    "                        display(output_data.show())\n",
    "                    except:\n",
    "                        display(widgets.HTML(\"<h1>Khong the truc quan</h1>\"))\n",
    "                        \n",
    "            \n",
    "    def dropdown_website_eventhandler(change):\n",
    "        '''\n",
    "            Eventhandler for the website dropdown widget\n",
    "        '''\n",
    "        \n",
    "        display(input_widgets, out)\n",
    "        website_choice = change.new\n",
    "        output_by_website(website_choice, dropdown_question.value, slider.value)\n",
    "        clear_output(wait=True)\n",
    "    \n",
    "    def dropdown_question_eventhandler(change):\n",
    "        '''\n",
    "            Eventhandler for the website dropdown widget\n",
    "        '''\n",
    "        \n",
    "        display(input_widgets, out)\n",
    "        questions_choice = change.new\n",
    "        output_by_website(dropdown_website.value, questions_choice, slider.value)\n",
    "        clear_output(wait=True)\n",
    "        \n",
    "    def slider_eventhandler(change):\n",
    "        display(input_widgets, out)\n",
    "        number = change.new\n",
    "        output_by_website(dropdown_website.value, dropdown_question.value, number)\n",
    "        clear_output(wait=True)\n",
    "\n",
    "    dropdown_website.observe(dropdown_website_eventhandler, names='value')\n",
    "    dropdown_question.observe(dropdown_question_eventhandler, names='value')\n",
    "    slider.observe(slider_eventhandler, names=\"value\")\n",
    "    \n",
    "    input_widgets = widgets.HBox([dropdown_website, dropdown_question, slider])\n",
    "    display(input_widgets)\n",
    "    \n",
    "    clear_output(wait=True)"
   ]
  },
  {
   "cell_type": "code",
   "execution_count": 252,
   "id": "2dd801b5",
   "metadata": {},
   "outputs": [
    {
     "data": {
      "application/vnd.jupyter.widget-view+json": {
       "model_id": "60fd6c4e42f1480cbe0edcee0d8c5156",
       "version_major": 2,
       "version_minor": 0
      },
      "text/plain": [
       "HBox(children=(Dropdown(description='Website: ', index=2, options=('Lazada', 'Shopee', 'Tiki'), value='Tiki'),…"
      ]
     },
     "metadata": {},
     "output_type": "display_data"
    },
    {
     "data": {
      "application/vnd.jupyter.widget-view+json": {
       "model_id": "3bbdf51bd3594bfa83f209f8ba555da7",
       "version_major": 2,
       "version_minor": 0
      },
      "text/plain": [
       "Output(outputs=({'output_type': 'display_data', 'data': {'application/vnd.plotly.v1+json': {'data': [{'orienta…"
      ]
     },
     "metadata": {},
     "output_type": "display_data"
    }
   ],
   "source": [
    "dropdown_menu_widget_visualization(dataset, websites, questions_for_visualize)"
   ]
  },
  {
   "cell_type": "code",
   "execution_count": 243,
   "id": "6f403270",
   "metadata": {},
   "outputs": [
    {
     "data": {
      "application/vnd.jupyter.widget-view+json": {
       "model_id": "3bbdf51bd3594bfa83f209f8ba555da7",
       "version_major": 2,
       "version_minor": 0
      },
      "text/plain": [
       "Output()"
      ]
     },
     "metadata": {},
     "output_type": "display_data"
    }
   ],
   "source": [
    "display(out)"
   ]
  }
 ],
 "metadata": {
  "kernelspec": {
   "display_name": "Python 3 (ipykernel)",
   "language": "python",
   "name": "python3"
  },
  "language_info": {
   "codemirror_mode": {
    "name": "ipython",
    "version": 3
   },
   "file_extension": ".py",
   "mimetype": "text/x-python",
   "name": "python",
   "nbconvert_exporter": "python",
   "pygments_lexer": "ipython3",
   "version": "3.10.1"
  }
 },
 "nbformat": 4,
 "nbformat_minor": 5
}
