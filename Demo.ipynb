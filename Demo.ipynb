{
 "cells": [
  {
   "cell_type": "code",
   "execution_count": 1,
   "id": "bb9a0ed5",
   "metadata": {},
   "outputs": [],
   "source": [
    "import warnings\n",
    "warnings.filterwarnings('ignore')"
   ]
  },
  {
   "cell_type": "code",
   "execution_count": 2,
   "id": "86f58efb",
   "metadata": {},
   "outputs": [
    {
     "name": "stderr",
     "output_type": "stream",
     "text": [
      "Enabling notebook extension jupyter-js-widgets/extension...\n",
      "      - Validating: ok\n",
      "Enabling: voila\n",
      "- Writing config: C:\\Users\\Hoang Nguyen\\AppData\\Local\\Programs\\Python\\Python310\\etc\\jupyter\n",
      "    - Validating...\n",
      "      voila 0.3.0 ok\n"
     ]
    }
   ],
   "source": [
    "!jupyter nbextension enable --py widgetsnbextension --sys-prefix\n",
    "!jupyter serverextension enable voila --sys-prefix"
   ]
  },
  {
   "cell_type": "code",
   "execution_count": 3,
   "id": "eb598546",
   "metadata": {},
   "outputs": [],
   "source": [
    "from ipywidgets import interact, interactive, fixed, interact_manual, widgets"
   ]
  },
  {
   "cell_type": "code",
   "execution_count": 4,
   "id": "e1ccf8f1",
   "metadata": {},
   "outputs": [],
   "source": [
    "import pandas as pd\n",
    "import numpy as np"
   ]
  },
  {
   "cell_type": "code",
   "execution_count": 5,
   "id": "5bd65e97",
   "metadata": {},
   "outputs": [],
   "source": [
    "import plotly.express as px\n",
    "%matplotlib inline"
   ]
  },
  {
   "cell_type": "code",
   "execution_count": 12,
   "id": "c81107f8",
   "metadata": {},
   "outputs": [
    {
     "name": "stdout",
     "output_type": "stream",
     "text": [
      "^C\n"
     ]
    }
   ],
   "source": [
    "!voila --debug"
   ]
  },
  {
   "cell_type": "code",
   "execution_count": 14,
   "id": "fd621ec0",
   "metadata": {},
   "outputs": [],
   "source": [
    "data = pd.read_csv(\"Shopee Data.csv\", index_col=0)"
   ]
  },
  {
   "cell_type": "code",
   "execution_count": 15,
   "id": "288893ce",
   "metadata": {},
   "outputs": [],
   "source": [
    "category_list = data['Category'].unique()"
   ]
  },
  {
   "cell_type": "code",
   "execution_count": 16,
   "id": "904a2fa9",
   "metadata": {},
   "outputs": [],
   "source": [
    "new_data = data.copy()\n",
    "new_data.Sales = new_data.groupby('Category').Sales.transform('sum')\n",
    "new_data.drop_duplicates(subset='Category', inplace=True)\n",
    "new_data.sort_values(by='Sales')\n",
    "pd.options.display.float_format = '{:.0f}'.format"
   ]
  },
  {
   "cell_type": "code",
   "execution_count": 17,
   "id": "8f1751b8",
   "metadata": {},
   "outputs": [],
   "source": [
    "def func(number_of_category_displayed):\n",
    "    fig = px.bar(new_data[:number_of_category_displayed], y='Sales', x='Category',\n",
    "                 text='Sales', title='Sales by Category')\n",
    "    \n",
    "    fig.update_traces(texttemplate=\"%{text:.2s}\", textposition='outside')\n",
    "    fig.update_layout(uniformtext_minsize=8, xaxis_tickangle=45, \n",
    "                      height=600, width=1000)\n",
    "    \n",
    "    fig.show()"
   ]
  },
  {
   "cell_type": "code",
   "execution_count": 18,
   "id": "e3e30c67",
   "metadata": {},
   "outputs": [],
   "source": [
    "length = len(new_data)"
   ]
  },
  {
   "cell_type": "code",
   "execution_count": 19,
   "id": "a8908638",
   "metadata": {},
   "outputs": [
    {
     "data": {
      "application/vnd.jupyter.widget-view+json": {
       "model_id": "1ce6838fddb84dc4a0375e4e698b4e76",
       "version_major": 2,
       "version_minor": 0
      },
      "text/plain": [
       "interactive(children=(IntSlider(value=14, description='x', max=24, min=5), Output()), _dom_classes=('widget-in…"
      ]
     },
     "metadata": {},
     "output_type": "display_data"
    }
   ],
   "source": [
    "interact(lambda x: func(x), x=(5, length));"
   ]
  },
  {
   "cell_type": "code",
   "execution_count": null,
   "id": "49cfcd21",
   "metadata": {},
   "outputs": [],
   "source": []
  }
 ],
 "metadata": {
  "kernelspec": {
   "display_name": "Python 3 (ipykernel)",
   "language": "python",
   "name": "python3"
  },
  "language_info": {
   "codemirror_mode": {
    "name": "ipython",
    "version": 3
   },
   "file_extension": ".py",
   "mimetype": "text/x-python",
   "name": "python",
   "nbconvert_exporter": "python",
   "pygments_lexer": "ipython3",
   "version": "3.10.1"
  }
 },
 "nbformat": 4,
 "nbformat_minor": 5
}
