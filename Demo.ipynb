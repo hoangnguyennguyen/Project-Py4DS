{
 "cells": [
  {
   "cell_type": "code",
   "execution_count": 1,
   "id": "69008f01",
   "metadata": {},
   "outputs": [],
   "source": [
    "import warnings\n",
    "warnings.filterwarnings('ignore')"
   ]
  },
  {
   "cell_type": "code",
   "execution_count": 2,
   "id": "0c9a4d64",
   "metadata": {},
   "outputs": [],
   "source": [
    "%%capture\n",
    "!jupyter nbextension enable --py widgetsnbextension --sys-prefix\n",
    "!jupyter serverextension enable voila --sys-prefix\n"
   ]
  },
  {
   "cell_type": "code",
   "execution_count": 3,
   "id": "56ea1e11",
   "metadata": {},
   "outputs": [],
   "source": [
    "from ipywidgets import *"
   ]
  },
  {
   "cell_type": "code",
   "execution_count": 59,
   "id": "a50a9a5d",
   "metadata": {},
   "outputs": [],
   "source": [
    "import pandas as pd\n",
    "import numpy as np\n",
    "from IPython.display import display, HTML, clear_output\n",
    "import IPython.display"
   ]
  },
  {
   "cell_type": "code",
   "execution_count": 35,
   "id": "eb75071c",
   "metadata": {},
   "outputs": [],
   "source": [
    "import plotly.express as px\n",
    "%matplotlib inline"
   ]
  },
  {
   "cell_type": "code",
   "execution_count": 36,
   "id": "46bb078e",
   "metadata": {},
   "outputs": [],
   "source": [
    "data = pd.read_csv(\"https://raw.githubusercontent.com/hoangnguyennguyen/Project-Py4DS/main/Shopee%20Data.csv\", index_col=0)"
   ]
  },
  {
   "cell_type": "code",
   "execution_count": 173,
   "id": "fd5a7ca9",
   "metadata": {},
   "outputs": [],
   "source": [
    "out = widgets.Output()"
   ]
  },
  {
   "cell_type": "code",
   "execution_count": 203,
   "id": "e9ba1ff8",
   "metadata": {},
   "outputs": [],
   "source": [
    "def load_home():\n",
    "    clear_output()\n",
    "    display(h_box)\n",
    "    wel = widgets.HTML(\"<h1>This is Home Page</h1>\")\n",
    "    display(wel)"
   ]
  },
  {
   "cell_type": "code",
   "execution_count": 204,
   "id": "8bbec9fd",
   "metadata": {},
   "outputs": [],
   "source": [
    "def load_abs():\n",
    "    clear_output()\n",
    "    display(h_box)\n",
    "    wel = widgets.HTML(\"<h1>This is About Us Page</h1>\")\n",
    "    display(wel)"
   ]
  },
  {
   "cell_type": "code",
   "execution_count": 205,
   "id": "5496a503",
   "metadata": {},
   "outputs": [],
   "source": [
    "def load_project():\n",
    "    clear_output()\n",
    "    display(h_box)\n",
    "    wel = widgets.HTML(\"<h1>This is Project Page</h1>\")\n",
    "    display(wel)"
   ]
  },
  {
   "cell_type": "code",
   "execution_count": 206,
   "id": "5868d04a",
   "metadata": {},
   "outputs": [],
   "source": [
    "def load_contact():\n",
    "    clear_output()\n",
    "    display(h_box)\n",
    "    wel = widgets.HTML(\"<h1>This is Contact Page</h1>\")\n",
    "    display(wel)"
   ]
  },
  {
   "cell_type": "code",
   "execution_count": 207,
   "id": "735ba717",
   "metadata": {},
   "outputs": [],
   "source": [
    "def home_isclick(arg):\n",
    "    load_home()"
   ]
  },
  {
   "cell_type": "code",
   "execution_count": 208,
   "id": "d4fcb5fa",
   "metadata": {},
   "outputs": [],
   "source": [
    "def abs_isclick(arg):\n",
    "    load_abs()"
   ]
  },
  {
   "cell_type": "code",
   "execution_count": 209,
   "id": "fb4aab4a",
   "metadata": {},
   "outputs": [],
   "source": [
    "def project_isclick(arg):\n",
    "    load_project()"
   ]
  },
  {
   "cell_type": "code",
   "execution_count": 210,
   "id": "b900cad6",
   "metadata": {},
   "outputs": [],
   "source": [
    "def contact_isclick(arg):\n",
    "    load_contact()"
   ]
  },
  {
   "cell_type": "code",
   "execution_count": 211,
   "id": "8d1742bf",
   "metadata": {},
   "outputs": [],
   "source": [
    "home_button = widgets.Button(description=\"Home\", \n",
    "                             layout=Layout(width='25%', height='50px'),\n",
    "                             button_style='primary')\n",
    "home_button.on_click(home_isclick)\n",
    "\n",
    "about_us_button = widgets.Button(description=\"About Us\",\n",
    "                                 layout=Layout(width='25%', height='50px'),\n",
    "                                 button_style='primary')\n",
    "about_us_button.on_click(abs_isclick)\n",
    "\n",
    "project_button = widgets.Button(description=\"Project\",\n",
    "                                layout=Layout(width='25%', height='50px'),\n",
    "                                button_style='primary')\n",
    "project_button.on_click(project_isclick)\n",
    "\n",
    "contact_button = widgets.Button(description=\"Contact\",\n",
    "                                layout=Layout(width='25%', height='50px'),\n",
    "                                button_style='primary')\n",
    "contact_button.on_click(contact_isclick)\n",
    "\n",
    "h_box = widgets.HBox(children=[home_button, about_us_button, \n",
    "                       project_button, contact_button])"
   ]
  },
  {
   "cell_type": "code",
   "execution_count": 212,
   "id": "835c5c14",
   "metadata": {},
   "outputs": [
    {
     "data": {
      "application/vnd.jupyter.widget-view+json": {
       "model_id": "545b785917d34f6eb1d6a80a254b7e03",
       "version_major": 2,
       "version_minor": 0
      },
      "text/plain": [
       "HBox(children=(Button(button_style='primary', description='Home', layout=Layout(height='50px', width='25%'), s…"
      ]
     },
     "metadata": {},
     "output_type": "display_data"
    },
    {
     "data": {
      "application/vnd.jupyter.widget-view+json": {
       "model_id": "d1d5ad77aece44e1bd6a104867cf5100",
       "version_major": 2,
       "version_minor": 0
      },
      "text/plain": [
       "HTML(value='<h1>This is Contact Page</h1>')"
      ]
     },
     "metadata": {},
     "output_type": "display_data"
    }
   ],
   "source": [
    "display(h_box)"
   ]
  },
  {
   "cell_type": "code",
   "execution_count": null,
   "id": "626e451b",
   "metadata": {},
   "outputs": [],
   "source": []
  }
 ],
 "metadata": {
  "kernelspec": {
   "display_name": "Python 3 (ipykernel)",
   "language": "python",
   "name": "python3"
  },
  "language_info": {
   "codemirror_mode": {
    "name": "ipython",
    "version": 3
   },
   "file_extension": ".py",
   "mimetype": "text/x-python",
   "name": "python",
   "nbconvert_exporter": "python",
   "pygments_lexer": "ipython3",
   "version": "3.10.1"
  }
 },
 "nbformat": 4,
 "nbformat_minor": 5
}
